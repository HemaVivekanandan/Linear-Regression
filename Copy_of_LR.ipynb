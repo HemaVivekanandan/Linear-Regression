{
  "nbformat": 4,
  "nbformat_minor": 0,
  "metadata": {
    "colab": {
      "name": "Copy of LR",
      "provenance": [],
      "authorship_tag": "ABX9TyOHufTKm+aXKw/T5x0ETNzK",
      "include_colab_link": true
    },
    "kernelspec": {
      "name": "python3",
      "display_name": "Python 3"
    }
  },
  "cells": [
    {
      "cell_type": "markdown",
      "metadata": {
        "id": "view-in-github",
        "colab_type": "text"
      },
      "source": [
        "<a href=\"https://colab.research.google.com/github/HemaVivekanandan/Linear-Regression/blob/master/Copy_of_LR.ipynb\" target=\"_parent\"><img src=\"https://colab.research.google.com/assets/colab-badge.svg\" alt=\"Open In Colab\"/></a>"
      ]
    },
    {
      "cell_type": "code",
      "metadata": {
        "id": "bVaPn-SYnStR",
        "colab_type": "code",
        "colab": {
          "base_uri": "https://localhost:8080/",
          "height": 585
        },
        "outputId": "ecdb151b-581d-49f1-f3d0-719c751ea815"
      },
      "source": [
        "import pandas as pd\n",
        "import matplotlib.pyplot as plt\n",
        "data = pd.read_csv(\"Tamilnadumay.csv\")\n",
        "print(data)"
      ],
      "execution_count": 1,
      "outputs": [
        {
          "output_type": "stream",
          "text": [
            "    Days  positive_cases\n",
            "0      1            2526\n",
            "1      2            2757\n",
            "2      3            3023\n",
            "3      4            3550\n",
            "4      5            4058\n",
            "5      6            4829\n",
            "6      7            5409\n",
            "7      8            6009\n",
            "8      9            6535\n",
            "9     10            7204\n",
            "10    11            8002\n",
            "11    12            8718\n",
            "12    13            9227\n",
            "13    14            9674\n",
            "14    15           10108\n",
            "15    16           10585\n",
            "16    17           11224\n",
            "17    18           11760\n",
            "18    19           12448\n",
            "19    20           13191\n",
            "20    21           13967\n",
            "21    22           14753\n",
            "22    23           15512\n",
            "23    24           16277\n",
            "24    25           17082\n",
            "25    26           17782\n",
            "26    27           18545\n",
            "27    28           19372\n",
            "28    29           20246\n",
            "29    30           21184\n",
            "30    31           22333\n"
          ],
          "name": "stdout"
        }
      ]
    },
    {
      "cell_type": "code",
      "metadata": {
        "id": "kz0Zss8Mq4OY",
        "colab_type": "code",
        "colab": {
          "base_uri": "https://localhost:8080/",
          "height": 278
        },
        "outputId": "f9622b59-410f-4a92-fca5-314629909fee"
      },
      "source": [
        "data.plot(kind='scatter', x='Days', y='positive_cases');\n",
        "plt.show()"
      ],
      "execution_count": 2,
      "outputs": [
        {
          "output_type": "display_data",
          "data": {
            "image/png": "[encoded data removed]",
            "text/plain": [
              "<Figure size 432x288 with 1 Axes>"
            ]
          },
          "metadata": {
            "tags": [],
            "needs_background": "light"
          }
        }
      ]
    },
    {
      "cell_type": "code",
      "metadata": {
        "id": "nEVjD46h0u0c",
        "colab_type": "code",
        "colab": {
          "base_uri": "https://localhost:8080/",
          "height": 52
        },
        "outputId": "5872ec23-d84a-49b5-b883-acf846a0cd9f"
      },
      "source": [
        "x_bar = data['Days'].mean()\n",
        "print(x_bar)\n",
        "y_bar = data['positive_cases'].mean()\n",
        "print(y_bar)"
      ],
      "execution_count": 3,
      "outputs": [
        {
          "output_type": "stream",
          "text": [
            "16.0\n",
            "11222.258064516129\n"
          ],
          "name": "stdout"
        }
      ]
    },
    {
      "cell_type": "code",
      "metadata": {
        "id": "OwSmmb0Q4Mjs",
        "colab_type": "code",
        "colab": {
          "base_uri": "https://localhost:8080/",
          "height": 34
        },
        "outputId": "9c7fe117-e63e-45e5-8579-26517f27689a"
      },
      "source": [
        "covariance  = (data.Days.cov(data.positive_cases))\n",
        "print(covariance)"
      ],
      "execution_count": 4,
      "outputs": [
        {
          "output_type": "stream",
          "text": [
            "53857.83333333336\n"
          ],
          "name": "stdout"
        }
      ]
    },
    {
      "cell_type": "code",
      "metadata": {
        "id": "aq-qX99o7dun",
        "colab_type": "code",
        "colab": {
          "base_uri": "https://localhost:8080/",
          "height": 34
        },
        "outputId": "5279e3e5-ac16-42af-d0c0-b9180cdd7d8b"
      },
      "source": [
        "variancex= data.loc[:,'Days'].var()\n",
        "print(variancex)"
      ],
      "execution_count": 5,
      "outputs": [
        {
          "output_type": "stream",
          "text": [
            "82.66666666666667\n"
          ],
          "name": "stdout"
        }
      ]
    },
    {
      "cell_type": "code",
      "metadata": {
        "id": "IxWJu-QMhWCV",
        "colab_type": "code",
        "colab": {
          "base_uri": "https://localhost:8080/",
          "height": 34
        },
        "outputId": "40f6ccb2-05b6-48a6-e771-b11455d986c3"
      },
      "source": [
        "m = covariance/variancex\n",
        "print(m)"
      ],
      "execution_count": 6,
      "outputs": [
        {
          "output_type": "stream",
          "text": [
            "651.506048387097\n"
          ],
          "name": "stdout"
        }
      ]
    },
    {
      "cell_type": "code",
      "metadata": {
        "id": "ip2PkASlh2gC",
        "colab_type": "code",
        "colab": {
          "base_uri": "https://localhost:8080/",
          "height": 34
        },
        "outputId": "9a5d4d0f-f755-4621-a7a1-916130562339"
      },
      "source": [
        "c = y_bar -(m*x_bar)\n",
        "print(c)"
      ],
      "execution_count": 7,
      "outputs": [
        {
          "output_type": "stream",
          "text": [
            "798.161290322576\n"
          ],
          "name": "stdout"
        }
      ]
    },
    {
      "cell_type": "code",
      "metadata": {
        "id": "873Xd9ish2eX",
        "colab_type": "code",
        "colab": {
          "base_uri": "https://localhost:8080/",
          "height": 52
        },
        "outputId": "0b9dc5c5-4188-4398-dd77-c5e417157717"
      },
      "source": [
        "days = int(input(\"Enter the number of days\"))\n",
        "y = int((m*days) + c)\n",
        "print(f\"The positive cases after {days} days is {y}\")"
      ],
      "execution_count": 16,
      "outputs": [
        {
          "output_type": "stream",
          "text": [
            "Enter the number of days32\n",
            "The positive cases after 32 days is 21646\n"
          ],
          "name": "stdout"
        }
      ]
    },
    {
      "cell_type": "code",
      "metadata": {
        "id": "doIUeOdiq4-n",
        "colab_type": "code",
        "colab": {
          "base_uri": "https://localhost:8080/",
          "height": 54
        },
        "outputId": "967f6f70-e009-4232-e0b0-73b8670aa913"
      },
      "source": [
        "list = []\n",
        "for index, rows in data.iterrows():\n",
        "  yp = (m * rows[0])+c\n",
        "  list.append(yp)\n",
        "print(list)"
      ],
      "execution_count": 10,
      "outputs": [
        {
          "output_type": "stream",
          "text": [
            "[1449.667338709673, 2101.17338709677, 2752.679435483867, 3404.185483870964, 4055.691532258061, 4707.197580645158, 5358.703629032256, 6010.209677419352, 6661.715725806449, 7313.2217741935465, 7964.727822580644, 8616.23387096774, 9267.739919354837, 9919.245967741936, 10570.752016129032, 11222.258064516129, 11873.764112903225, 12525.270161290322, 13176.77620967742, 13828.282258064517, 14479.788306451614, 15131.294354838712, 15782.800403225809, 16434.306451612905, 17085.8125, 17737.3185483871, 18388.824596774197, 19040.330645161295, 19691.83669354839, 20343.34274193549, 20994.848790322583]\n"
          ],
          "name": "stdout"
        }
      ]
    },
    {
      "cell_type": "code",
      "metadata": {
        "id": "MhY91pd7Xsdj",
        "colab_type": "code",
        "colab": {
          "base_uri": "https://localhost:8080/",
          "height": 34
        },
        "outputId": "cbdeb633-6555-4371-f46c-891dd66194b7"
      },
      "source": [
        "numsum = 0\n",
        "for i in range(0, len(list)):\n",
        "  numerator = (list[i]-y_bar)**2\n",
        "  numsum = numsum + numerator\n",
        "num = numsum\n",
        "print(num)"
      ],
      "execution_count": 11,
      "outputs": [
        {
          "output_type": "stream",
          "text": [
            "1052661125.0907267\n"
          ],
          "name": "stdout"
        }
      ]
    },
    {
      "cell_type": "code",
      "metadata": {
        "id": "pOI38MMWaGrE",
        "colab_type": "code",
        "colab": {
          "base_uri": "https://localhost:8080/",
          "height": 54
        },
        "outputId": "49bc9d60-db66-4a66-84e0-2f0b11071aad"
      },
      "source": [
        "listy = []\n",
        "for index, rows in data.iterrows():\n",
        "  y = rows[1]\n",
        "  listy.append(y)\n",
        "print(listy)"
      ],
      "execution_count": 12,
      "outputs": [
        {
          "output_type": "stream",
          "text": [
            "[2526, 2757, 3023, 3550, 4058, 4829, 5409, 6009, 6535, 7204, 8002, 8718, 9227, 9674, 10108, 10585, 11224, 11760, 12448, 13191, 13967, 14753, 15512, 16277, 17082, 17782, 18545, 19372, 20246, 21184, 22333]\n"
          ],
          "name": "stdout"
        }
      ]
    },
    {
      "cell_type": "code",
      "metadata": {
        "id": "XGdUCsL3ag0M",
        "colab_type": "code",
        "colab": {
          "base_uri": "https://localhost:8080/",
          "height": 34
        },
        "outputId": "35a85e55-75c9-4d1c-ed33-29ceaf9d1d89"
      },
      "source": [
        "denomsum = 0\n",
        "for i in range(0, len(listy)):\n",
        "  denomenator = (listy[i]-y_bar)**2\n",
        "  denomsum = denomsum + denomenator\n",
        "denom = denomsum\n",
        "print(denom)"
      ],
      "execution_count": 13,
      "outputs": [
        {
          "output_type": "stream",
          "text": [
            "1060473275.9354838\n"
          ],
          "name": "stdout"
        }
      ]
    },
    {
      "cell_type": "code",
      "metadata": {
        "id": "qSIudrWeag15",
        "colab_type": "code",
        "colab": {
          "base_uri": "https://localhost:8080/",
          "height": 34
        },
        "outputId": "ad466f77-dd0d-4708-c675-bf9c82a0f80e"
      },
      "source": [
        "rsquare = (num/denom)*100\n",
        "print(rsquare)"
      ],
      "execution_count": 15,
      "outputs": [
        {
          "output_type": "stream",
          "text": [
            "99.26333354908301\n"
          ],
          "name": "stdout"
        }
      ]
    }
  ]
}